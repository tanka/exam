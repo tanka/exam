{
 "cells": [
  {
   "cell_type": "code",
   "execution_count": 1,
   "id": "e6a6a46a",
   "metadata": {},
   "outputs": [],
   "source": [
    "import random \n",
    "import paho.mqtt.client as mqtt\n",
    "from paho.mqtt import client as mqtt_client\n",
    "import json\n",
    "import time\n",
    "import requests"
   ]
  },
  {
   "cell_type": "code",
   "execution_count": 2,
   "id": "179a686a",
   "metadata": {},
   "outputs": [],
   "source": [
    "def keygen(noise, modulus):\n",
    "    a_key = random.getrandbits((noise ** 2))\n",
    " \n",
    "    while ((a_key % 2) != 1) and (a_key < (modulus ** (noise ** 2) - 1)):\n",
    "        a_key = a_key + 1\n",
    " \n",
    "    return a_key\n",
    "\n",
    "def keyGenStronger(noise, modulus):\n",
    "    \"\"\"Aims to improve correctness of SHE function\"\"\"\n",
    "    key =0 \n",
    "    while key<=modulus/2:\n",
    "        key = keygen(noise, modulus)\n",
    "        print(\"New key = \", key)\n",
    "    return key\n",
    "    \n",
    "def encrypt(noise, a_key, a_bit, modulus):\n",
    "    a_mask          = random.getrandbits(noise)\n",
    "    a_bit_remainder = a_bit % modulus\n",
    " \n",
    "    while ((a_mask % modulus) != a_bit_remainder):\n",
    "        a_mask = random.getrandbits(noise)\n",
    " \n",
    "    return a_mask + (a_key * random.getrandbits(noise ** 5))\n",
    "\n",
    "def decrypt(a_key, a_bit, modulus):\n",
    "    return (a_bit % a_key) % modulus\n",
    "\n"
   ]
  },
  {
   "cell_type": "markdown",
   "id": "b6dd40df",
   "metadata": {},
   "source": [
    "# Condition Check"
   ]
  },
  {
   "cell_type": "code",
   "execution_count": 3,
   "id": "4b664b5a",
   "metadata": {},
   "outputs": [],
   "source": [
    "def compair(dec_c,origin_m):\n",
    "    if dec_c == origin_m:\n",
    "        print(\"Correct answer\")\n",
    "    else:\n",
    "        print(\"Error\")"
   ]
  },
  {
   "cell_type": "code",
   "execution_count": 4,
   "id": "4761e472",
   "metadata": {},
   "outputs": [],
   "source": [
    "def breakmessage(m):\n",
    "    \"\"\"breaking long int message to 2 messages\"\"\"\n",
    "    \n",
    "    m_temp = m;\n",
    "    max_value = 99999998 # accept 8 input digits\n",
    "    m_div = []\n",
    "    digit = le8\n",
    "    i=0\n",
    "    while m_temp > max_value:\n",
    "        temp = math.floor(m_temp/digit)\n",
    "        m_temp = float(m_temp)\n",
    "        m_low = float(m_temp - temp*digit)\n",
    "        m_div.append(int(m_low))\n",
    "        if temp < max_value:\n",
    "            m_div.append(int(temp))\n",
    "            \n",
    "        m_temp = float(temp)\n",
    "        i = i+1\n",
    "    return m_div"
   ]
  },
  {
   "cell_type": "markdown",
   "id": "cda64a56",
   "metadata": {},
   "source": [
    "# SHE Execution"
   ]
  },
  {
   "cell_type": "code",
   "execution_count": 5,
   "id": "5ffd6ba5",
   "metadata": {},
   "outputs": [],
   "source": [
    "def run_encSHE(key, noise, modulus, m1, m2):\n",
    "    c1 = encrypt(noise, key, m1, modulus)\n",
    "    c2 = encrypt(noise, key, m2, modulus)\n",
    "    print(\"Cibhertext: \")\n",
    "    print(\"c1= \", c1)\n",
    "    print(\"c2= \",c2)\n",
    "    return c1,c2\n",
    "\n",
    "def run_decSHE(key, modulus, ciphertext_result):\n",
    "    result = decrypt(key, ciphertext_result, modulus)\n",
    "    print(\"Result: \", result)\n",
    "    return result"
   ]
  },
  {
   "cell_type": "markdown",
   "id": "5843c21c",
   "metadata": {},
   "source": [
    "# NETPIE Pub/Sub"
   ]
  },
  {
   "cell_type": "code",
   "execution_count": 6,
   "id": "7766d886",
   "metadata": {},
   "outputs": [],
   "source": [
    "mqtt_client_name = \"AVG\"  # from NETPIE device\n",
    "client_id = \"bf384adf-275f-44cf-abcb-17c4c555a23f\" # client-ID from NETPIE device\n",
    "username = \"HdzFnV8D7HLQ1PVJyd75DDa7McWeQfrS\" # Token from NETPIE device\n",
    "password = \"TUIgG-V2SjCVl5IPc!p~JWi6Ulg*$TBp\" # secret from NETPIE device\n",
    "broker = \"broker.netpie.io\" # MQTT broker\n",
    "topic = \"@shadow/data/update\"\n",
    "topic_sub = \"@shadow/data/updated\"\n",
    "protocol = \"mqtt\"\n",
    "PUBLISH_PERIOD = 2000  # milliseconds\n",
    "port = 1883"
   ]
  },
  {
   "cell_type": "code",
   "execution_count": 7,
   "id": "ff3e8262",
   "metadata": {},
   "outputs": [],
   "source": [
    "def connect_mqtt():\n",
    "    def on_connect(client, userdata, flags, rc):\n",
    "        if rc == 0:\n",
    "            print(\"Connected to NETPIE MQTT Broker!\")\n",
    "        else:\n",
    "            print(\"Failed to connect, return code %d\\n\", rc)\n",
    "    # Set Connecting Client ID\n",
    "    client = mqtt_client.Client(client_id)\n",
    "    client.username_pw_set(username, password)\n",
    "    client.on_connect = on_connect\n",
    "    client.connect(broker, port)\n",
    "    return client\n",
    "\n",
    "def publish_shadow(client,m1,m2):\n",
    "    msg_dict = {\"data\": {'c1':m1,'c2':m2,'multiplication':0,'additive':0}}\n",
    "    msg = json.dumps(msg_dict)\n",
    "    result = client.publish(topic, msg,qos=0, retain=False)\n",
    "    \n",
    "def subscribe(client_id,username):\n",
    "    url = 'https://api.netpie.io/v2/device/shadow/data'\n",
    "    basicAuthCredentials = (client_id, username)\n",
    "    response = requests.get(url, auth=basicAuthCredentials)\n",
    "    print(response.json())\n",
    "    return response.json()"
   ]
  },
  {
   "cell_type": "code",
   "execution_count": 8,
   "id": "81aff059",
   "metadata": {},
   "outputs": [],
   "source": [
    "## RUN SHE\n",
    "\n",
    "def run_SHE(m1, m2, noise, modulus):\n",
    "    key = keyGenStronger(noise, modulus)\n",
    "    print(\"key: \", key)\n",
    "    c1 = encrypt(noise, key, m1, modulus)\n",
    "    c2 = encrypt(noise, key, m2, modulus)\n",
    "    print(f\"ciphertext c1 : {c1} \\n ciphertext {c2}\")\n",
    "    return c1, c2, key"
   ]
  },
  {
   "cell_type": "code",
   "execution_count": 19,
   "id": "e680db60",
   "metadata": {},
   "outputs": [],
   "source": [
    "# def run_NETPIE(c1, c2):\n",
    "#     client = connect_mqtt()\n",
    "#     client.loop_start()  # start loop\n",
    "#     publish_shadow(client, c1, c2)  # publish data to @shadow\n",
    "#     time.sleep(4)\n",
    "#     client.loop_stop()\n",
    "#     result = subscribe(client_id, username)\n",
    "    \n",
    "def run_NETPIE(c1,c2):\n",
    "    client = connect_mqtt()\n",
    "    client.loop_start() # Start loop\n",
    "    publish_shadow(client,c1,c2) # publish data to @shadow/data/update\n",
    "    time.sleep(4)\n",
    "    client.loop_stop()\n",
    "    result = subscribe(client_id,username)\n",
    "    \n",
    "    return result"
   ]
  },
  {
   "cell_type": "markdown",
   "id": "da5e8b44",
   "metadata": {},
   "source": [
    "# Results"
   ]
  },
  {
   "cell_type": "code",
   "execution_count": null,
   "id": "7e7d563e",
   "metadata": {},
   "outputs": [],
   "source": [
    "noise = 2\n",
    "modulus = 4"
   ]
  },
  {
   "cell_type": "code",
   "execution_count": 35,
   "id": "d86c4f83",
   "metadata": {},
   "outputs": [
    {
     "name": "stdout",
     "output_type": "stream",
     "text": [
      "New key =  15\n",
      "key:  15\n",
      "ciphertext c1 : 954027931 \n",
      " ciphertext 3787147832\n"
     ]
    }
   ],
   "source": [
    "m1 = 1\n",
    "m2 = 2\n",
    "\n",
    "c1,c2,key = run_SHE(m1, m2, noise, modulus)"
   ]
  },
  {
   "cell_type": "code",
   "execution_count": 36,
   "id": "c310361e",
   "metadata": {},
   "outputs": [
    {
     "name": "stdout",
     "output_type": "stream",
     "text": [
      "Connected to NETPIE MQTT Broker!\n",
      "Connected to NETPIE MQTT Broker!\n",
      "{'deviceid': 'a5a2ec78-be5e-4f8a-af21-2158855434b8', 'data': {'additive': 4741175763, 'c1': 954027931, 'c2': 3787147832, 'multiplication': 3613044810554095600}, 'rev': 33, 'modified': 1651120921864}\n"
     ]
    }
   ],
   "source": [
    "\n",
    "result = run_NETPIE(c1,c2)\n",
    "# print(result)"
   ]
  },
  {
   "cell_type": "code",
   "execution_count": 37,
   "id": "15b6d895",
   "metadata": {},
   "outputs": [
    {
     "name": "stdout",
     "output_type": "stream",
     "text": [
      "m_netpie_add = 4741175763 \n",
      " c_netpie_mul = 3613044810554095600\n",
      "Result:  3\n",
      "Result:  2\n"
     ]
    }
   ],
   "source": [
    "c_netpie_add = result[\"data\"][\"additive\"]\n",
    "c_netpie_mul = result[\"data\"][\"multiplication\"]\n",
    "\n",
    "print(f\"m_netpie_add = {c_netpie_add} \\n c_netpie_mul = {c_netpie_mul}\")\n",
    "m_NETPIE_add = run_decSHE(key, modulus, c_netpie_add)\n",
    "m_NETPIE_mul = run_decSHE(key, modulus, c_netpie_mul)"
   ]
  },
  {
   "cell_type": "code",
   "execution_count": 38,
   "id": "adcf7f28",
   "metadata": {},
   "outputs": [],
   "source": [
    "def compare(dec_c,origin_m):\n",
    "    if dec_c == origin_m:\n",
    "        print(\"Correct answer\")\n",
    "    else:\n",
    "        print(\"Error\")"
   ]
  },
  {
   "cell_type": "code",
   "execution_count": 39,
   "id": "f34e783d",
   "metadata": {},
   "outputs": [
    {
     "name": "stdout",
     "output_type": "stream",
     "text": [
      "Compare the result from NETPIE\n",
      "Correct answer\n",
      "Correct answer\n"
     ]
    }
   ],
   "source": [
    "print(\"Compare the result from NETPIE\")\n",
    "compare(m_NETPIE_add, m1+m2)\n",
    "compare(m_NETPIE_mul, m1*m2)"
   ]
  },
  {
   "cell_type": "code",
   "execution_count": null,
   "id": "6f02a157",
   "metadata": {},
   "outputs": [],
   "source": []
  }
 ],
 "metadata": {
  "kernelspec": {
   "display_name": "pythonDSAI",
   "language": "python",
   "name": "pythondsai"
  },
  "language_info": {
   "codemirror_mode": {
    "name": "ipython",
    "version": 3
   },
   "file_extension": ".py",
   "mimetype": "text/x-python",
   "name": "python",
   "nbconvert_exporter": "python",
   "pygments_lexer": "ipython3",
   "version": "3.9.1"
  },
  "varInspector": {
   "cols": {
    "lenName": 16,
    "lenType": 16,
    "lenVar": 40
   },
   "kernels_config": {
    "python": {
     "delete_cmd_postfix": "",
     "delete_cmd_prefix": "del ",
     "library": "var_list.py",
     "varRefreshCmd": "print(var_dic_list())"
    },
    "r": {
     "delete_cmd_postfix": ") ",
     "delete_cmd_prefix": "rm(",
     "library": "var_list.r",
     "varRefreshCmd": "cat(var_dic_list()) "
    }
   },
   "position": {
    "height": "432.844px",
    "left": "996px",
    "right": "20px",
    "top": "120px",
    "width": "350px"
   },
   "types_to_exclude": [
    "module",
    "function",
    "builtin_function_or_method",
    "instance",
    "_Feature"
   ],
   "window_display": false
  }
 },
 "nbformat": 4,
 "nbformat_minor": 5
}
