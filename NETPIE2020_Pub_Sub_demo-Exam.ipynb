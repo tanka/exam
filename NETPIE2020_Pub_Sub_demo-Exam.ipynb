{
 "cells": [
  {
   "cell_type": "code",
   "execution_count": 1,
   "id": "2b7392f1",
   "metadata": {},
   "outputs": [],
   "source": [
    "import random \n",
    "import paho.mqtt.client as mqtt\n",
    "from paho.mqtt import client as mqtt_client\n",
    "import json\n",
    "import time\n",
    "import requests"
   ]
  },
  {
   "cell_type": "code",
   "execution_count": 9,
   "id": "27bd0cef",
   "metadata": {},
   "outputs": [],
   "source": [
    "def connect_mqtt():\n",
    "    def on_connect(client, userdata, flags, rc):\n",
    "        if rc == 0:\n",
    "            print(\"Connected to NETPIE MQTT Broker!\")\n",
    "        else:\n",
    "            print(\"Failed to connect, return code %d\\n\", rc)\n",
    "    # Set Connecting Client ID\n",
    "    client = mqtt_client.Client(client_id)\n",
    "    client.username_pw_set(username, password)\n",
    "    client.on_connect = on_connect\n",
    "    client.connect(broker, port)\n",
    "    return client\n",
    "\n",
    "def publish_shadow(client,m1,m2, m3):\n",
    "    msg_dict = {\"data\": {'m1':m1,'m2':m2,'m3':m3, 'avg':0}}\n",
    "    msg = json.dumps(msg_dict)\n",
    "    result = client.publish(topic, msg,qos=0, retain=False)\n",
    "    \n",
    "def subscribe(client_id,username):\n",
    "    url = 'https://api.netpie.io/v2/device/shadow/data'\n",
    "    basicAuthCredentials = (client_id, username)\n",
    "    response = requests.get(url, auth=basicAuthCredentials)\n",
    "    print(response.json())\n",
    "    return response.json()"
   ]
  },
  {
   "cell_type": "code",
   "execution_count": 14,
   "id": "0f6175be",
   "metadata": {},
   "outputs": [],
   "source": [
    "mqtt_client_name = \"AVG\"  # from NETPIE device\n",
    "client_id = \"bf384adf-275f-44cf-abcb-17c4c555a23f\" # client-ID from NETPIE device\n",
    "username = \"HdzFnV8D7HLQ1PVJyd75DDa7McWeQfrS\" # Token from NETPIE device\n",
    "password = \"TUIgG-V2SjCVl5IPc!p~JWi6Ulg*$TBp\" # secret from NETPIE device\n",
    "broker = \"broker.netpie.io\" # MQTT broker\n",
    "topic = \"@shadow/data/update\"\n",
    "topic_sub = \"@shadow/data/updated\"\n",
    "protocol = \"mqtt\"\n",
    "PUBLISH_PERIOD = 2000  # milliseconds\n",
    "port = 1883"
   ]
  },
  {
   "cell_type": "code",
   "execution_count": 15,
   "id": "a85fd08a",
   "metadata": {},
   "outputs": [],
   "source": [
    "def run_NETPIE(c1,c2, c3):\n",
    "    client = connect_mqtt()\n",
    "    client.loop_start() # Start loop\n",
    "    publish_shadow(client,c1,c2,c3) # publish data to @shadow/data/update\n",
    "    time.sleep(4)\n",
    "    client.loop_stop()\n",
    "    result = subscribe(client_id,username)\n",
    "    \n",
    "    return result"
   ]
  },
  {
   "cell_type": "markdown",
   "id": "3fc4525f",
   "metadata": {},
   "source": [
    "## Test RUN NETPIE"
   ]
  },
  {
   "cell_type": "code",
   "execution_count": 27,
   "id": "55928a98",
   "metadata": {},
   "outputs": [
    {
     "name": "stdout",
     "output_type": "stream",
     "text": [
      "Connected to NETPIE MQTT Broker!\n",
      "Connected to NETPIE MQTT Broker!\n",
      "Connected to NETPIE MQTT Broker!\n",
      "Connected to NETPIE MQTT Broker!\n",
      "{'deviceid': 'bf384adf-275f-44cf-abcb-17c4c555a23f', 'data': {'In_out': 2, 'Space': 10, 'Vacant': 7.333333333333333, 'avg': 300, 'in_out': 9, 'm1': 400, 'm2': 300, 'm3': 200}, 'rev': 66, 'modified': 1651146623973}\n"
     ]
    }
   ],
   "source": [
    "#  Without Multiparty Computation scheme\n",
    "#ttime = t0\n",
    "\n",
    "c1 = 400 #400  Actual values.  \n",
    "c2 = 300  # 300\n",
    "c3 = 200  # 200\n",
    "result = run_NETPIE(c1,c2, c3)"
   ]
  },
  {
   "cell_type": "code",
   "execution_count": 28,
   "id": "db9e70d9",
   "metadata": {},
   "outputs": [
    {
     "name": "stdout",
     "output_type": "stream",
     "text": [
      "Connected to NETPIE MQTT Broker!\n",
      "Connected to NETPIE MQTT Broker!\n",
      "Connected to NETPIE MQTT Broker!\n",
      "Connected to NETPIE MQTT Broker!\n",
      "Connected to NETPIE MQTT Broker!\n",
      "{'deviceid': 'bf384adf-275f-44cf-abcb-17c4c555a23f', 'data': {'In_out': 2, 'Space': 10, 'Vacant': 7.333333333333333, 'avg': 316.6666666666667, 'in_out': 9, 'm1': 450, 'm2': 300, 'm3': 200}, 'rev': 67, 'modified': 1651146629077}\n"
     ]
    }
   ],
   "source": [
    "# ttime = t1\n",
    "\n",
    "c1 = 450 #450\n",
    "c2 = 300  # 300\n",
    "c3 = 200   # 200\n",
    "result = run_NETPIE(c1,c2, c3)"
   ]
  },
  {
   "cell_type": "code",
   "execution_count": 29,
   "id": "4a33119e",
   "metadata": {},
   "outputs": [
    {
     "name": "stdout",
     "output_type": "stream",
     "text": [
      "Connected to NETPIE MQTT Broker!\n",
      "Connected to NETPIE MQTT Broker!\n",
      "Connected to NETPIE MQTT Broker!\n",
      "Connected to NETPIE MQTT Broker!\n",
      "{'deviceid': 'bf384adf-275f-44cf-abcb-17c4c555a23f', 'data': {'In_out': 2, 'Space': 10, 'Vacant': 7.333333333333333, 'avg': 466.6666666666667, 'in_out': 9, 'm1': 500, 'm2': 400, 'm3': 500}, 'rev': 68, 'modified': 1651146633680}\n"
     ]
    }
   ],
   "source": [
    "# ttime = t2\n",
    "\n",
    "c1 = 500 #500\n",
    "c2 = 400  # 400\n",
    "c3 = 500   # 500\n",
    "result = run_NETPIE(c1,c2, c3)"
   ]
  },
  {
   "cell_type": "code",
   "execution_count": 30,
   "id": "df9ec4b0",
   "metadata": {},
   "outputs": [
    {
     "name": "stdout",
     "output_type": "stream",
     "text": [
      "Connected to NETPIE MQTT Broker!\n",
      "Connected to NETPIE MQTT Broker!\n",
      "Connected to NETPIE MQTT Broker!\n",
      "Connected to NETPIE MQTT Broker!\n",
      "{'deviceid': 'bf384adf-275f-44cf-abcb-17c4c555a23f', 'data': {'In_out': 2, 'Space': 10, 'Vacant': 7.333333333333333, 'avg': 500, 'in_out': 9, 'm1': 550, 'm2': 450, 'm3': 500}, 'rev': 69, 'modified': 1651146638800}\n"
     ]
    }
   ],
   "source": [
    "# ttime = t3\n",
    "\n",
    "c1 = 550 #550\n",
    "c2 = 450  # 450\n",
    "c3 = 500   # 500\n",
    "result = run_NETPIE(c1,c2, c3)\n",
    "\n",
    "# and so on for rest of the time values"
   ]
  },
  {
   "cell_type": "markdown",
   "id": "e1d2a9c1",
   "metadata": {},
   "source": [
    "# Now with MPC"
   ]
  },
  {
   "cell_type": "code",
   "execution_count": 18,
   "id": "89d38111",
   "metadata": {},
   "outputs": [
    {
     "name": "stdout",
     "output_type": "stream",
     "text": [
      "Connected to NETPIE MQTT Broker!\n",
      "Connected to NETPIE MQTT Broker!\n",
      "Connected to NETPIE MQTT Broker!\n",
      "Connected to NETPIE MQTT Broker!\n",
      "{'deviceid': 'bf384adf-275f-44cf-abcb-17c4c555a23f', 'data': {'In_out': 2, 'Space': 10, 'Vacant': 7.333333333333333, 'avg': 300, 'in_out': 9, 'm1': 350, 'm2': 250, 'm3': 300}, 'rev': 57, 'modified': 1651145577392}\n"
     ]
    }
   ],
   "source": [
    "# ttime = t0\n",
    "#  With Multiparty Computation scheme\n",
    "c1 = 350 #400  Actual values.  \n",
    "c2 = 250  # 300\n",
    "c3 = 300  # 200\n",
    "result = run_NETPIE(c1,c2, c3)"
   ]
  },
  {
   "cell_type": "code",
   "execution_count": 19,
   "id": "cb444ccf",
   "metadata": {},
   "outputs": [
    {
     "name": "stdout",
     "output_type": "stream",
     "text": [
      "Connected to NETPIE MQTT Broker!\n",
      "Connected to NETPIE MQTT Broker!\n",
      "Connected to NETPIE MQTT Broker!\n",
      "Connected to NETPIE MQTT Broker!\n",
      "Connected to NETPIE MQTT Broker!\n",
      "{'deviceid': 'bf384adf-275f-44cf-abcb-17c4c555a23f', 'data': {'In_out': 2, 'Space': 10, 'Vacant': 7.333333333333333, 'avg': 316.6666666666667, 'in_out': 9, 'm1': 450, 'm2': 250, 'm3': 250}, 'rev': 58, 'modified': 1651145581927}\n"
     ]
    }
   ],
   "source": [
    "# ttime = t1\n",
    "\n",
    "c1 = 450 #450\n",
    "c2 = 250  # 300\n",
    "c3 = 250   # 200\n",
    "result = run_NETPIE(c1,c2, c3)"
   ]
  },
  {
   "cell_type": "code",
   "execution_count": 20,
   "id": "4cf43ea8",
   "metadata": {},
   "outputs": [
    {
     "name": "stdout",
     "output_type": "stream",
     "text": [
      "Connected to NETPIE MQTT Broker!\n",
      "Connected to NETPIE MQTT Broker!\n",
      "Connected to NETPIE MQTT Broker!\n",
      "Connected to NETPIE MQTT Broker!\n",
      "{'deviceid': 'bf384adf-275f-44cf-abcb-17c4c555a23f', 'data': {'In_out': 2, 'Space': 10, 'Vacant': 7.333333333333333, 'avg': 466.6666666666667, 'in_out': 9, 'm1': 400, 'm2': 300, 'm3': 700}, 'rev': 59, 'modified': 1651145588159}\n"
     ]
    }
   ],
   "source": [
    "# ttime = t2\n",
    "\n",
    "c1 = 400 #500\n",
    "c2 = 300  # 400\n",
    "c3 = 700   # 500\n",
    "result = run_NETPIE(c1,c2, c3)"
   ]
  },
  {
   "cell_type": "code",
   "execution_count": 21,
   "id": "d7d3b991",
   "metadata": {},
   "outputs": [
    {
     "name": "stdout",
     "output_type": "stream",
     "text": [
      "Connected to NETPIE MQTT Broker!\n",
      "Connected to NETPIE MQTT Broker!\n",
      "Connected to NETPIE MQTT Broker!\n",
      "{'deviceid': 'bf384adf-275f-44cf-abcb-17c4c555a23f', 'data': {'In_out': 2, 'Space': 10, 'Vacant': 7.333333333333333, 'avg': 500, 'in_out': 9, 'm1': 450, 'm2': 350, 'm3': 700}, 'rev': 60, 'modified': 1651145595672}\n"
     ]
    }
   ],
   "source": [
    "# ttime = t3\n",
    "\n",
    "c1 = 450 #550\n",
    "c2 = 350  # 450\n",
    "c3 = 700   # 500\n",
    "result = run_NETPIE(c1,c2, c3)\n",
    "\n",
    "# and so on for rest of the time values"
   ]
  },
  {
   "cell_type": "markdown",
   "id": "511459da",
   "metadata": {},
   "source": [
    "To compare the results now"
   ]
  },
  {
   "cell_type": "code",
   "execution_count": 6,
   "id": "a45e71ef",
   "metadata": {},
   "outputs": [
    {
     "name": "stdout",
     "output_type": "stream",
     "text": [
      "m_netpie_add = 5 \n",
      " c_netpie_mul = 6\n"
     ]
    }
   ],
   "source": [
    "c_netpie_add = result[\"data\"][\"additive\"]\n",
    "c_netpie_mul = result[\"data\"][\"multiplication\"]\n",
    "print(f\"m_netpie_add = {c_netpie_add} \\n c_netpie_mul = {c_netpie_mul}\")"
   ]
  },
  {
   "cell_type": "code",
   "execution_count": null,
   "id": "7fb3f501",
   "metadata": {},
   "outputs": [],
   "source": []
  },
  {
   "cell_type": "code",
   "execution_count": null,
   "id": "f0fcedf0",
   "metadata": {},
   "outputs": [],
   "source": []
  }
 ],
 "metadata": {
  "kernelspec": {
   "display_name": "Python 3 (ipykernel)",
   "language": "python",
   "name": "python3"
  },
  "language_info": {
   "codemirror_mode": {
    "name": "ipython",
    "version": 3
   },
   "file_extension": ".py",
   "mimetype": "text/x-python",
   "name": "python",
   "nbconvert_exporter": "python",
   "pygments_lexer": "ipython3",
   "version": "3.9.1"
  },
  "varInspector": {
   "cols": {
    "lenName": 16,
    "lenType": 16,
    "lenVar": 40
   },
   "kernels_config": {
    "python": {
     "delete_cmd_postfix": "",
     "delete_cmd_prefix": "del ",
     "library": "var_list.py",
     "varRefreshCmd": "print(var_dic_list())"
    },
    "r": {
     "delete_cmd_postfix": ") ",
     "delete_cmd_prefix": "rm(",
     "library": "var_list.r",
     "varRefreshCmd": "cat(var_dic_list()) "
    }
   },
   "oldHeight": 418.844,
   "position": {
    "height": "40px",
    "left": "996px",
    "right": "20px",
    "top": "120px",
    "width": "350px"
   },
   "types_to_exclude": [
    "module",
    "function",
    "builtin_function_or_method",
    "instance",
    "_Feature"
   ],
   "varInspector_section_display": "none",
   "window_display": true
  }
 },
 "nbformat": 4,
 "nbformat_minor": 5
}
